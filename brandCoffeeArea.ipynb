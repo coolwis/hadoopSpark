{
 "cells": [
  {
   "cell_type": "code",
   "execution_count": 3,
   "id": "a97e742f",
   "metadata": {
    "collapsed": true
   },
   "outputs": [],
   "source": [
    "import findspark\n",
    "findspark.find()\n",
    "findspark.init('/home/ubuntu/spark/spark-3.1.2')"
   ]
  },
  {
   "cell_type": "code",
   "execution_count": 4,
   "id": "179d43f3",
   "metadata": {
    "collapsed": true
   },
   "outputs": [
    {
     "name": "stderr",
     "output_type": "stream",
     "text": [
      "2025-03-21 06:27:42,900 WARN spark.SparkContext: Another SparkContext is being constructed (or threw an exception in its constructor). This may indicate an error, since only one SparkContext should be running in this JVM (see SPARK-2243). The other SparkContext was created at:\n",
      "org.apache.spark.api.java.JavaSparkContext.<init>(JavaSparkContext.scala:58)\n",
      "java.base/jdk.internal.reflect.NativeConstructorAccessorImpl.newInstance0(Native Method)\n",
      "java.base/jdk.internal.reflect.NativeConstructorAccessorImpl.newInstance(NativeConstructorAccessorImpl.java:62)\n",
      "java.base/jdk.internal.reflect.DelegatingConstructorAccessorImpl.newInstance(DelegatingConstructorAccessorImpl.java:45)\n",
      "java.base/java.lang.reflect.Constructor.newInstance(Constructor.java:490)\n",
      "py4j.reflection.MethodInvoker.invoke(MethodInvoker.java:247)\n",
      "py4j.reflection.ReflectionEngine.invoke(ReflectionEngine.java:357)\n",
      "py4j.Gateway.invoke(Gateway.java:238)\n",
      "py4j.commands.ConstructorCommand.invokeConstructor(ConstructorCommand.java:80)\n",
      "py4j.commands.ConstructorCommand.execute(ConstructorCommand.java:69)\n",
      "py4j.GatewayConnection.run(GatewayConnection.java:238)\n",
      "java.base/java.lang.Thread.run(Thread.java:834)\n",
      "2025-03-21 06:27:43,270 WARN yarn.Client: Neither spark.yarn.jars nor spark.yarn.archive is set, falling back to uploading libraries under SPARK_HOME.\n"
     ]
    }
   ],
   "source": [
    "import pyspark\n",
    "from pyspark.sql import SparkSession\n",
    "from pyspark.sql.functions import col\n",
    "\n",
    "sc = SparkSession.builder.master(\"yarn\").appName(\"pysparkMy\").getOrCreate()"
   ]
  },
  {
   "cell_type": "code",
   "execution_count": 5,
   "id": "e0ef3824",
   "metadata": {
    "collapsed": true
   },
   "outputs": [
    {
     "data": {
      "text/html": [
       "\n",
       "            <div>\n",
       "                <p><b>SparkSession - in-memory</b></p>\n",
       "                \n",
       "        <div>\n",
       "            <p><b>SparkContext</b></p>\n",
       "\n",
       "            <p><a href=\"http://nn1:4040\">Spark UI</a></p>\n",
       "\n",
       "            <dl>\n",
       "              <dt>Version</dt>\n",
       "                <dd><code>v3.1.2</code></dd>\n",
       "              <dt>Master</dt>\n",
       "                <dd><code>yarn</code></dd>\n",
       "              <dt>AppName</dt>\n",
       "                <dd><code>pysparkMy</code></dd>\n",
       "            </dl>\n",
       "        </div>\n",
       "        \n",
       "            </div>\n",
       "        "
      ],
      "text/plain": [
       "<pyspark.sql.session.SparkSession at 0x7f968d609d90>"
      ]
     },
     "execution_count": 5,
     "metadata": {},
     "output_type": "execute_result"
    }
   ],
   "source": [
    "sc"
   ]
  },
  {
   "cell_type": "code",
   "execution_count": 6,
   "id": "38706458",
   "metadata": {
    "collapsed": true
   },
   "outputs": [
    {
     "name": "stderr",
     "output_type": "stream",
     "text": [
      "                                                                                \r"
     ]
    }
   ],
   "source": [
    "# load from hadoop data\n",
    "hdfs_coffee_csv = sc.read.csv(\"hdfs:///test/ediya_starbucks_coffe_maps.csv\",header=True)"
   ]
  },
  {
   "cell_type": "code",
   "execution_count": 7,
   "id": "d60963ef",
   "metadata": {
    "collapsed": true
   },
   "outputs": [
    {
     "name": "stderr",
     "output_type": "stream",
     "text": [
      "\r",
      "[Stage 1:>                                                          (0 + 1) / 1]\r",
      "\r",
      "                                                                                \r"
     ]
    }
   ],
   "source": [
    "df_coffee_csv=hdfs_coffee_csv.toPandas()\n",
    "# print(df_coffee_csv)"
   ]
  },
  {
   "cell_type": "code",
   "execution_count": 8,
   "id": "1164debd",
   "metadata": {
    "collapsed": true
   },
   "outputs": [],
   "source": [
    "import pandas as pd\n",
    "import numpy as np\n",
    "import folium\n",
    "import time\n",
    "\n",
    "from bs4 import BeautifulSoup\n",
    "from tqdm import tqdm_notebook"
   ]
  },
  {
   "cell_type": "code",
   "execution_count": 9,
   "id": "cc54665b",
   "metadata": {
    "collapsed": true
   },
   "outputs": [],
   "source": [
    "from matplotlib import font_manager\n",
    "from matplotlib import rc\n",
    "import matplotlib.pyplot as plt"
   ]
  },
  {
   "cell_type": "code",
   "execution_count": 10,
   "id": "78089d47",
   "metadata": {
    "collapsed": true
   },
   "outputs": [
    {
     "data": {
      "text/html": [
       "<div>\n",
       "<style scoped>\n",
       "    .dataframe tbody tr th:only-of-type {\n",
       "        vertical-align: middle;\n",
       "    }\n",
       "\n",
       "    .dataframe tbody tr th {\n",
       "        vertical-align: top;\n",
       "    }\n",
       "\n",
       "    .dataframe thead th {\n",
       "        text-align: right;\n",
       "    }\n",
       "</style>\n",
       "<table border=\"1\" class=\"dataframe\">\n",
       "  <thead>\n",
       "    <tr style=\"text-align: right;\">\n",
       "      <th></th>\n",
       "      <th>_c0</th>\n",
       "      <th>매장이름</th>\n",
       "      <th>주소</th>\n",
       "      <th>구</th>\n",
       "      <th>브랜드</th>\n",
       "      <th>위도</th>\n",
       "      <th>경도</th>\n",
       "      <th>값</th>\n",
       "    </tr>\n",
       "  </thead>\n",
       "  <tbody>\n",
       "    <tr>\n",
       "      <th>1155</th>\n",
       "      <td>1155</td>\n",
       "      <td>용산원효점</td>\n",
       "      <td>서울 용산구 원효로 70 (원효로4가, 신정빌딩)</td>\n",
       "      <td>용산구</td>\n",
       "      <td>이디야</td>\n",
       "      <td>None</td>\n",
       "      <td>None</td>\n",
       "      <td>1</td>\n",
       "    </tr>\n",
       "    <tr>\n",
       "      <th>1156</th>\n",
       "      <td>1156</td>\n",
       "      <td>용산중앙점</td>\n",
       "      <td>서울 용산구 한강대로 52-1 (한강로3가)</td>\n",
       "      <td>용산구</td>\n",
       "      <td>이디야</td>\n",
       "      <td>None</td>\n",
       "      <td>None</td>\n",
       "      <td>1</td>\n",
       "    </tr>\n",
       "    <tr>\n",
       "      <th>1157</th>\n",
       "      <td>1157</td>\n",
       "      <td>용산청파점</td>\n",
       "      <td>서울 용산구 청파로71길 10 (청파동1가, 새마을금고)</td>\n",
       "      <td>용산구</td>\n",
       "      <td>이디야</td>\n",
       "      <td>None</td>\n",
       "      <td>None</td>\n",
       "      <td>1</td>\n",
       "    </tr>\n",
       "    <tr>\n",
       "      <th>1158</th>\n",
       "      <td>1158</td>\n",
       "      <td>용산효창점</td>\n",
       "      <td>서울 용산구 효창원로66길 2 (효창동)</td>\n",
       "      <td>용산구</td>\n",
       "      <td>이디야</td>\n",
       "      <td>None</td>\n",
       "      <td>None</td>\n",
       "      <td>1</td>\n",
       "    </tr>\n",
       "    <tr>\n",
       "      <th>1159</th>\n",
       "      <td>1159</td>\n",
       "      <td>원효로점</td>\n",
       "      <td>서울 용산구 원효로 257 (원효로1가)</td>\n",
       "      <td>용산구</td>\n",
       "      <td>이디야</td>\n",
       "      <td>None</td>\n",
       "      <td>None</td>\n",
       "      <td>1</td>\n",
       "    </tr>\n",
       "  </tbody>\n",
       "</table>\n",
       "</div>"
      ],
      "text/plain": [
       "       _c0   매장이름                               주소    구  브랜드    위도    경도  값\n",
       "1155  1155  용산원효점      서울 용산구 원효로 70 (원효로4가, 신정빌딩)  용산구  이디야  None  None  1\n",
       "1156  1156  용산중앙점         서울 용산구 한강대로 52-1 (한강로3가)  용산구  이디야  None  None  1\n",
       "1157  1157  용산청파점  서울 용산구 청파로71길 10 (청파동1가, 새마을금고)  용산구  이디야  None  None  1\n",
       "1158  1158  용산효창점           서울 용산구 효창원로66길 2 (효창동)  용산구  이디야  None  None  1\n",
       "1159  1159   원효로점           서울 용산구 원효로 257 (원효로1가)  용산구  이디야  None  None  1"
      ]
     },
     "execution_count": 10,
     "metadata": {},
     "output_type": "execute_result"
    }
   ],
   "source": [
    "df_coffee_csv[\"값\"] = 1\n",
    "df_coffee_csv.tail()"
   ]
  },
  {
   "cell_type": "code",
   "execution_count": 11,
   "id": "ea9ae291",
   "metadata": {},
   "outputs": [
    {
     "data": {
      "text/plain": [
       "<Axes: xlabel='구'>"
      ]
     },
     "execution_count": 11,
     "metadata": {},
     "output_type": "execute_result"
    },
    {
     "data": {
      "image/png": "[encoded data removed]",
      "text/plain": [
       "<Figure size 1224x432 with 1 Axes>"
      ]
     },
     "metadata": {
      "needs_background": "light"
     },
     "output_type": "display_data"
    }
   ],
   "source": [
    "# 한글 글꼴 이름 조회\n",
    "# f_path=\"/home/ubuntu/.local/lib/python3.8/site-packages/matplotlib/mpl-data/fonts/ttf/malgun.ttf\"\n",
    "# font_name = font_manager.FontProperties(fname=f_path).get_name()\n",
    "# print (font_name)\n",
    "font_name='Malgun Gothic'\n",
    "plt.rc('font', family=font_name)\n",
    "# rc(\"font\", family=font_name)\n",
    "rc(\"axes\", unicode_minus=False)\n",
    "\n",
    "get_ipython().run_line_magic(\"matplotlib\", \"inline\")\n",
    "df_coffee_count = df_coffee_csv.pivot_table(index=\"구\", columns=\"브랜드\", values=\"값\", aggfunc=np.sum)\n",
    "df_coffee_count.plot.bar(rot=0,  figsize=(17,6), color=[\"green\", \"darkblue\"])"
   ]
  },
  {
   "cell_type": "code",
   "execution_count": null,
   "id": "ecbe5e22",
   "metadata": {
    "collapsed": true
   },
   "outputs": [],
   "source": [
    "# hadoop webui\n",
    "\n",
    "# spark webui\n",
    "\n",
    "\n",
    "# 데이터 web 크롤링 코드\n",
    "\n",
    "# hadoop, spark 구성"
   ]
  }
 ],
 "metadata": {
  "kernelspec": {
   "display_name": "Python 3 (ipykernel)",
   "language": "python",
   "name": "python3"
  },
  "language_info": {
   "codemirror_mode": {
    "name": "ipython",
    "version": 3
   },
   "file_extension": ".py",
   "mimetype": "text/x-python",
   "name": "python",
   "nbconvert_exporter": "python",
   "pygments_lexer": "ipython3",
   "version": "3.8.10"
  }
 },
 "nbformat": 4,
 "nbformat_minor": 5
}
