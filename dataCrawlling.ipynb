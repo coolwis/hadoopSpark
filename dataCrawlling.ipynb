{
 "cells": [
  {
   "cell_type": "code",
   "execution_count": 3,
   "id": "92f80659",
   "metadata": {},
   "outputs": [],
   "source": [
    "import pandas as pd\n",
    "import numpy as np\n",
    "import folium\n",
    "import time\n",
    "\n",
    "from bs4 import BeautifulSoup\n",
    "from tqdm import tqdm_notebook\n",
    "from selenium import webdriver\n",
    "\n",
    "from selenium.webdriver.common.by import By\n",
    "from selenium.webdriver.support.ui import WebDriverWait\n",
    "from selenium.webdriver.support import expected_conditions as EC"
   ]
  },
  {
   "cell_type": "code",
   "execution_count": 7,
   "id": "2f22856d",
   "metadata": {},
   "outputs": [],
   "source": [
    "# 웹드라이버 설정\n",
    "chrome_options = webdriver.ChromeOptions()\n",
    "# chrome_options.add_argument(\"headless\")\n",
    "\n",
    "# driver = webdriver.Chrome(\"../driver/chromedriver.exe\", options=chrome_options)\n",
    "driver = webdriver.Chrome()\n",
    "driver.implicitly_wait(10)\n",
    "\n",
    "# 스타벅스 지도 페이지 오픈\n",
    "starbuck_map_url = \"https://www.starbucks.co.kr/store/store_map.do?disp=locale\"\n",
    "driver.get(starbuck_map_url)"
   ]
  },
  {
   "cell_type": "code",
   "execution_count": 9,
   "id": "cd839a4f",
   "metadata": {},
   "outputs": [],
   "source": [
    "# 윈도우 화면 최대화\n",
    "driver.maximize_window()"
   ]
  },
  {
   "cell_type": "code",
   "execution_count": 11,
   "id": "00845e84",
   "metadata": {},
   "outputs": [],
   "source": [
    "# 스타벅스 서울 클릭\n",
    "starbucks_seoul_css = \"#container > div > form > fieldset > div > section > article.find_store_cont > article > article:nth-child(4) > div.loca_step1 > div.loca_step1_cont > ul > li:nth-child(1) > a\"\n",
    "WebDriverWait(driver, 5).until(EC.presence_of_element_located((By.CSS_SELECTOR, starbucks_seoul_css))).click()"
   ]
  },
  {
   "cell_type": "code",
   "execution_count": 13,
   "id": "04a81a61",
   "metadata": {},
   "outputs": [],
   "source": [
    "# 스타벅스 서울 전체 클릭\n",
    "starbucks_seoul_all_css = \"#mCSB_2_container > ul > li:nth-child(1) > a\"\n",
    "WebDriverWait(driver, 5).until(EC.presence_of_element_located((By.CSS_SELECTOR, starbucks_seoul_all_css))).click()"
   ]
  },
  {
   "cell_type": "code",
   "execution_count": 15,
   "id": "333531b8",
   "metadata": {},
   "outputs": [],
   "source": [
    "# 스타벅스 서울 전체 HTML 파싱\n",
    "html = driver.page_source\n",
    "soup = BeautifulSoup(html, \"html.parser\")"
   ]
  },
  {
   "cell_type": "code",
   "execution_count": 16,
   "id": "dbce45d4",
   "metadata": {},
   "outputs": [],
   "source": [
    "container = soup.find(\"div\", id=\"mCSB_3_container\")\n",
    "li_all = container.find_all(\"li\")"
   ]
  },
  {
   "cell_type": "code",
   "execution_count": 19,
   "id": "9268960e",
   "metadata": {},
   "outputs": [],
   "source": [
    "starbucks_data = []\n",
    "\n",
    "for li in li_all:\n",
    "    name = li.find(\"strong\").text.strip()\n",
    "    address = li.find(\"p\").text.strip().replace(\"1522-3232\", \"\")\n",
    "    gu = address.split(\" \")[1]    \n",
    "    each = {\n",
    "        \"매장이름\":name, \"주소\":address, \"구\":gu, \"브랜드\":\"스타벅스\"\n",
    "    }\n",
    "    starbucks_data.append(each)"
   ]
  },
  {
   "cell_type": "code",
   "execution_count": 21,
   "id": "2f8648dc",
   "metadata": {},
   "outputs": [
    {
     "data": {
      "text/plain": [
       "634"
      ]
     },
     "execution_count": 21,
     "metadata": {},
     "output_type": "execute_result"
    }
   ],
   "source": [
    "len(starbucks_data)"
   ]
  },
  {
   "cell_type": "code",
   "execution_count": 23,
   "id": "35dd2cc4",
   "metadata": {},
   "outputs": [
    {
     "data": {
      "text/html": [
       "<div>\n",
       "<style scoped>\n",
       "    .dataframe tbody tr th:only-of-type {\n",
       "        vertical-align: middle;\n",
       "    }\n",
       "\n",
       "    .dataframe tbody tr th {\n",
       "        vertical-align: top;\n",
       "    }\n",
       "\n",
       "    .dataframe thead th {\n",
       "        text-align: right;\n",
       "    }\n",
       "</style>\n",
       "<table border=\"1\" class=\"dataframe\">\n",
       "  <thead>\n",
       "    <tr style=\"text-align: right;\">\n",
       "      <th></th>\n",
       "      <th>매장이름</th>\n",
       "      <th>주소</th>\n",
       "      <th>구</th>\n",
       "      <th>브랜드</th>\n",
       "    </tr>\n",
       "  </thead>\n",
       "  <tbody>\n",
       "    <tr>\n",
       "      <th>629</th>\n",
       "      <td>상봉역</td>\n",
       "      <td>서울특별시 중랑구 망우로 307 (상봉동)</td>\n",
       "      <td>중랑구</td>\n",
       "      <td>스타벅스</td>\n",
       "    </tr>\n",
       "    <tr>\n",
       "      <th>630</th>\n",
       "      <td>묵동</td>\n",
       "      <td>서울특별시 중랑구 동일로 952 (묵동, 로프트원 태릉입구역) 1층</td>\n",
       "      <td>중랑구</td>\n",
       "      <td>스타벅스</td>\n",
       "    </tr>\n",
       "    <tr>\n",
       "      <th>631</th>\n",
       "      <td>망우동</td>\n",
       "      <td>서울특별시 중랑구 망우로 407 (망우동)</td>\n",
       "      <td>중랑구</td>\n",
       "      <td>스타벅스</td>\n",
       "    </tr>\n",
       "    <tr>\n",
       "      <th>632</th>\n",
       "      <td>양원역</td>\n",
       "      <td>서울특별시 중랑구 양원역로10길 3 (망우동)</td>\n",
       "      <td>중랑구</td>\n",
       "      <td>스타벅스</td>\n",
       "    </tr>\n",
       "    <tr>\n",
       "      <th>633</th>\n",
       "      <td>중화역</td>\n",
       "      <td>서울특별시 중랑구 봉화산로 35 1층</td>\n",
       "      <td>중랑구</td>\n",
       "      <td>스타벅스</td>\n",
       "    </tr>\n",
       "  </tbody>\n",
       "</table>\n",
       "</div>"
      ],
      "text/plain": [
       "    매장이름                                     주소    구   브랜드\n",
       "629  상봉역                서울특별시 중랑구 망우로 307 (상봉동)  중랑구  스타벅스\n",
       "630   묵동  서울특별시 중랑구 동일로 952 (묵동, 로프트원 태릉입구역) 1층  중랑구  스타벅스\n",
       "631  망우동                서울특별시 중랑구 망우로 407 (망우동)  중랑구  스타벅스\n",
       "632  양원역              서울특별시 중랑구 양원역로10길 3 (망우동)  중랑구  스타벅스\n",
       "633  중화역                   서울특별시 중랑구 봉화산로 35 1층  중랑구  스타벅스"
      ]
     },
     "execution_count": 23,
     "metadata": {},
     "output_type": "execute_result"
    }
   ],
   "source": [
    "df_starbucks = pd.DataFrame(starbucks_data)\n",
    "df_starbucks.tail()"
   ]
  },
  {
   "cell_type": "code",
   "execution_count": 25,
   "id": "8c226178",
   "metadata": {},
   "outputs": [
    {
     "data": {
      "text/plain": [
       "25"
      ]
     },
     "execution_count": 25,
     "metadata": {},
     "output_type": "execute_result"
    }
   ],
   "source": [
    "gu_list = list(df_starbucks[\"구\"].unique())\n",
    "len(gu_list)"
   ]
  },
  {
   "cell_type": "code",
   "execution_count": 27,
   "id": "8347c759",
   "metadata": {},
   "outputs": [],
   "source": [
    "# 이디야 지도 페이지 오픈\n",
    "eidya_map_url = \"https://www.ediya.com/contents/find_store.html\"\n",
    "driver.get(eidya_map_url)"
   ]
  },
  {
   "cell_type": "code",
   "execution_count": 29,
   "id": "2c564ce4",
   "metadata": {},
   "outputs": [],
   "source": [
    "# 이디야 페이지 화면 최대화\n",
    "driver.maximize_window()"
   ]
  },
  {
   "cell_type": "code",
   "execution_count": 31,
   "id": "788d8d61",
   "metadata": {},
   "outputs": [],
   "source": [
    "# 이디야 주소 검색 클릭\n",
    "eidya_address_css = \"#contentWrap > div.contents > div > div.store_search_pop > ul > li:nth-child(2) > a\"\n",
    "WebDriverWait(driver, 5).until(EC.presence_of_element_located((By.CSS_SELECTOR, eidya_address_css))).click()"
   ]
  },
  {
   "cell_type": "code",
   "execution_count": 33,
   "id": "3b5410e9",
   "metadata": {},
   "outputs": [],
   "source": [
    "eidya_data = []\n",
    "\n",
    "# 이디야 지도 서울 > 지역별 데이터 검색\n",
    "for gu in gu_list:\n",
    "\n",
    "    eidya_search_keyword_css = \"#keyword\"\n",
    "    \n",
    "    # 이디야 주소 검색어 초기화\n",
    "    WebDriverWait(driver, 5).until(EC.presence_of_element_located((By.CSS_SELECTOR, eidya_search_keyword_css))).clear()\n",
    "    \n",
    "    # 이디야 주소 검색어 입력\n",
    "    WebDriverWait(driver, 5).until(EC.presence_of_element_located((By.CSS_SELECTOR, eidya_search_keyword_css))).send_keys(f\"서울 {gu}\")\n",
    "    \n",
    "    # 이디야 주소 검색 버튼 클릭\n",
    "    eidya_search_button_css = \"#keyword_div > form > button\"\n",
    "    WebDriverWait(driver, 5).until(EC.presence_of_element_located((By.CSS_SELECTOR, eidya_search_button_css))).click()\n",
    "    \n",
    "    # 이디야 구별 매장 정보 수집\n",
    "    html = driver.page_source\n",
    "    soup = BeautifulSoup(html, \"html.parser\")\n",
    "    ul_tag = soup.find(\"ul\", id=\"placesList\")\n",
    "    dl_all = ul_tag.find_all(\"dl\")\n",
    "    \n",
    "    for dl in dl_all:\n",
    "        name = dl.find(\"dt\").text.strip()\n",
    "        address = dl.find(\"dd\").text.strip()\n",
    "        gu = address.split(\" \")[1]\n",
    "        each = {\n",
    "            \"매장이름\":name, \"주소\":address, \"구\":gu, \"브랜드\":\"이디야\"\n",
    "        }\n",
    "        eidya_data.append(each)"
   ]
  },
  {
   "cell_type": "code",
   "execution_count": 7,
   "id": "6545fa0f",
   "metadata": {},
   "outputs": [
    {
     "data": {
      "text/plain": [
       "1160"
      ]
     },
     "execution_count": 7,
     "metadata": {},
     "output_type": "execute_result"
    }
   ],
   "source": [
    "len(eidya_data)"
   ]
  },
  {
   "cell_type": "code",
   "execution_count": 9,
   "id": "42453a15",
   "metadata": {},
   "outputs": [
    {
     "data": {
      "text/html": [
       "<div>\n",
       "<style scoped>\n",
       "    .dataframe tbody tr th:only-of-type {\n",
       "        vertical-align: middle;\n",
       "    }\n",
       "\n",
       "    .dataframe tbody tr th {\n",
       "        vertical-align: top;\n",
       "    }\n",
       "\n",
       "    .dataframe thead th {\n",
       "        text-align: right;\n",
       "    }\n",
       "</style>\n",
       "<table border=\"1\" class=\"dataframe\">\n",
       "  <thead>\n",
       "    <tr style=\"text-align: right;\">\n",
       "      <th></th>\n",
       "      <th>Unnamed: 0</th>\n",
       "      <th>매장이름</th>\n",
       "      <th>주소</th>\n",
       "      <th>구</th>\n",
       "      <th>브랜드</th>\n",
       "      <th>위도</th>\n",
       "      <th>경도</th>\n",
       "    </tr>\n",
       "  </thead>\n",
       "  <tbody>\n",
       "    <tr>\n",
       "      <th>1155</th>\n",
       "      <td>1155</td>\n",
       "      <td>용산원효점</td>\n",
       "      <td>서울 용산구 원효로 70 (원효로4가, 신정빌딩)</td>\n",
       "      <td>용산구</td>\n",
       "      <td>이디야</td>\n",
       "      <td>NaN</td>\n",
       "      <td>NaN</td>\n",
       "    </tr>\n",
       "    <tr>\n",
       "      <th>1156</th>\n",
       "      <td>1156</td>\n",
       "      <td>용산중앙점</td>\n",
       "      <td>서울 용산구 한강대로 52-1 (한강로3가)</td>\n",
       "      <td>용산구</td>\n",
       "      <td>이디야</td>\n",
       "      <td>NaN</td>\n",
       "      <td>NaN</td>\n",
       "    </tr>\n",
       "    <tr>\n",
       "      <th>1157</th>\n",
       "      <td>1157</td>\n",
       "      <td>용산청파점</td>\n",
       "      <td>서울 용산구 청파로71길 10 (청파동1가, 새마을금고)</td>\n",
       "      <td>용산구</td>\n",
       "      <td>이디야</td>\n",
       "      <td>NaN</td>\n",
       "      <td>NaN</td>\n",
       "    </tr>\n",
       "    <tr>\n",
       "      <th>1158</th>\n",
       "      <td>1158</td>\n",
       "      <td>용산효창점</td>\n",
       "      <td>서울 용산구 효창원로66길 2 (효창동)</td>\n",
       "      <td>용산구</td>\n",
       "      <td>이디야</td>\n",
       "      <td>NaN</td>\n",
       "      <td>NaN</td>\n",
       "    </tr>\n",
       "    <tr>\n",
       "      <th>1159</th>\n",
       "      <td>1159</td>\n",
       "      <td>원효로점</td>\n",
       "      <td>서울 용산구 원효로 257 (원효로1가)</td>\n",
       "      <td>용산구</td>\n",
       "      <td>이디야</td>\n",
       "      <td>NaN</td>\n",
       "      <td>NaN</td>\n",
       "    </tr>\n",
       "  </tbody>\n",
       "</table>\n",
       "</div>"
      ],
      "text/plain": [
       "      Unnamed: 0   매장이름                               주소    구  브랜드  위도  경도\n",
       "1155        1155  용산원효점      서울 용산구 원효로 70 (원효로4가, 신정빌딩)  용산구  이디야 NaN NaN\n",
       "1156        1156  용산중앙점         서울 용산구 한강대로 52-1 (한강로3가)  용산구  이디야 NaN NaN\n",
       "1157        1157  용산청파점  서울 용산구 청파로71길 10 (청파동1가, 새마을금고)  용산구  이디야 NaN NaN\n",
       "1158        1158  용산효창점           서울 용산구 효창원로66길 2 (효창동)  용산구  이디야 NaN NaN\n",
       "1159        1159   원효로점           서울 용산구 원효로 257 (원효로1가)  용산구  이디야 NaN NaN"
      ]
     },
     "execution_count": 9,
     "metadata": {},
     "output_type": "execute_result"
    }
   ],
   "source": [
    "df_ediya = pd.DataFrame(eidya_data)\n",
    "df_ediya.tail()"
   ]
  },
  {
   "cell_type": "code",
   "execution_count": 13,
   "id": "782873be",
   "metadata": {},
   "outputs": [],
   "source": [
    "df_coffee = pd.concat([df_starbucks, df_ediya])\n",
    "# df_coffee =pd.read_csv(\"./ediya_starbucks_coffe_maps.csv\", encoding=\"utf-8\", index_col=0)\n",
    "# df_coffee.reset_index(drop=True, inplace=True)"
   ]
  },
  {
   "cell_type": "code",
   "execution_count": 54,
   "id": "036a0550",
   "metadata": {},
   "outputs": [
    {
     "data": {
      "text/html": [
       "<div>\n",
       "<style scoped>\n",
       "    .dataframe tbody tr th:only-of-type {\n",
       "        vertical-align: middle;\n",
       "    }\n",
       "\n",
       "    .dataframe tbody tr th {\n",
       "        vertical-align: top;\n",
       "    }\n",
       "\n",
       "    .dataframe thead th {\n",
       "        text-align: right;\n",
       "    }\n",
       "</style>\n",
       "<table border=\"1\" class=\"dataframe\">\n",
       "  <thead>\n",
       "    <tr style=\"text-align: right;\">\n",
       "      <th></th>\n",
       "      <th>매장이름</th>\n",
       "      <th>주소</th>\n",
       "      <th>구</th>\n",
       "      <th>브랜드</th>\n",
       "      <th>위도</th>\n",
       "      <th>경도</th>\n",
       "    </tr>\n",
       "  </thead>\n",
       "  <tbody>\n",
       "    <tr>\n",
       "      <th>1307</th>\n",
       "      <td>용산중앙점</td>\n",
       "      <td>서울 용산구 한강대로 52-1 (한강로3가)</td>\n",
       "      <td>용산구</td>\n",
       "      <td>이디야</td>\n",
       "      <td>37.525589</td>\n",
       "      <td>126.964826</td>\n",
       "    </tr>\n",
       "    <tr>\n",
       "      <th>1308</th>\n",
       "      <td>용산청파점</td>\n",
       "      <td>서울 용산구 청파로71길 10 (청파동1가, 새마을금고)</td>\n",
       "      <td>용산구</td>\n",
       "      <td>이디야</td>\n",
       "      <td>37.544676</td>\n",
       "      <td>126.970027</td>\n",
       "    </tr>\n",
       "    <tr>\n",
       "      <th>1309</th>\n",
       "      <td>용산효창점</td>\n",
       "      <td>서울 용산구 효창원로66길 2 (효창동)</td>\n",
       "      <td>용산구</td>\n",
       "      <td>이디야</td>\n",
       "      <td>37.541042</td>\n",
       "      <td>126.963486</td>\n",
       "    </tr>\n",
       "    <tr>\n",
       "      <th>1310</th>\n",
       "      <td>용산후암점</td>\n",
       "      <td>서울 용산구 후암로 40-2 (후암동, 성원빌딩)</td>\n",
       "      <td>용산구</td>\n",
       "      <td>이디야</td>\n",
       "      <td>37.549481</td>\n",
       "      <td>126.977665</td>\n",
       "    </tr>\n",
       "    <tr>\n",
       "      <th>1311</th>\n",
       "      <td>원효로점</td>\n",
       "      <td>서울 용산구 원효로 257 (원효로1가)</td>\n",
       "      <td>용산구</td>\n",
       "      <td>이디야</td>\n",
       "      <td>37.539932</td>\n",
       "      <td>126.967461</td>\n",
       "    </tr>\n",
       "  </tbody>\n",
       "</table>\n",
       "</div>"
      ],
      "text/plain": [
       "       매장이름                               주소    구  브랜드         위도          경도\n",
       "1307  용산중앙점         서울 용산구 한강대로 52-1 (한강로3가)  용산구  이디야  37.525589  126.964826\n",
       "1308  용산청파점  서울 용산구 청파로71길 10 (청파동1가, 새마을금고)  용산구  이디야  37.544676  126.970027\n",
       "1309  용산효창점           서울 용산구 효창원로66길 2 (효창동)  용산구  이디야  37.541042  126.963486\n",
       "1310  용산후암점      서울 용산구 후암로 40-2 (후암동, 성원빌딩)  용산구  이디야  37.549481  126.977665\n",
       "1311   원효로점           서울 용산구 원효로 257 (원효로1가)  용산구  이디야  37.539932  126.967461"
      ]
     },
     "execution_count": 54,
     "metadata": {},
     "output_type": "execute_result"
    }
   ],
   "source": [
    "df_coffee.tail()"
   ]
  },
  {
   "cell_type": "code",
   "execution_count": 66,
   "id": "3c319627",
   "metadata": {},
   "outputs": [],
   "source": [
    "df_coffee.to_csv(\"~/ediya_starbucks_coffe_maps.csv\", sep=\",\", encoding=\"utf-8\")"
   ]
  },
  {
   "cell_type": "code",
   "execution_count": 64,
   "id": "b3b6c85e",
   "metadata": {},
   "outputs": [],
   "source": [
    "df_coffee_csv = pd.read_csv(\"../ediya_starbucks_coffe_maps.csv\", encoding=\"utf-8\", index_col=0)"
   ]
  },
  {
   "cell_type": "code",
   "execution_count": 61,
   "id": "eae23b72",
   "metadata": {},
   "outputs": [
    {
     "data": {
      "text/html": [
       "<div>\n",
       "<style scoped>\n",
       "    .dataframe tbody tr th:only-of-type {\n",
       "        vertical-align: middle;\n",
       "    }\n",
       "\n",
       "    .dataframe tbody tr th {\n",
       "        vertical-align: top;\n",
       "    }\n",
       "\n",
       "    .dataframe thead th {\n",
       "        text-align: right;\n",
       "    }\n",
       "</style>\n",
       "<table border=\"1\" class=\"dataframe\">\n",
       "  <thead>\n",
       "    <tr style=\"text-align: right;\">\n",
       "      <th></th>\n",
       "      <th>매장이름</th>\n",
       "      <th>주소</th>\n",
       "      <th>구</th>\n",
       "      <th>브랜드</th>\n",
       "      <th>위도</th>\n",
       "      <th>경도</th>\n",
       "    </tr>\n",
       "  </thead>\n",
       "  <tbody>\n",
       "    <tr>\n",
       "      <th>1307</th>\n",
       "      <td>용산중앙점</td>\n",
       "      <td>서울 용산구 한강대로 52-1 (한강로3가)</td>\n",
       "      <td>용산구</td>\n",
       "      <td>이디야</td>\n",
       "      <td>37.525589</td>\n",
       "      <td>126.964826</td>\n",
       "    </tr>\n",
       "    <tr>\n",
       "      <th>1308</th>\n",
       "      <td>용산청파점</td>\n",
       "      <td>서울 용산구 청파로71길 10 (청파동1가, 새마을금고)</td>\n",
       "      <td>용산구</td>\n",
       "      <td>이디야</td>\n",
       "      <td>37.544676</td>\n",
       "      <td>126.970027</td>\n",
       "    </tr>\n",
       "    <tr>\n",
       "      <th>1309</th>\n",
       "      <td>용산효창점</td>\n",
       "      <td>서울 용산구 효창원로66길 2 (효창동)</td>\n",
       "      <td>용산구</td>\n",
       "      <td>이디야</td>\n",
       "      <td>37.541042</td>\n",
       "      <td>126.963486</td>\n",
       "    </tr>\n",
       "    <tr>\n",
       "      <th>1310</th>\n",
       "      <td>용산후암점</td>\n",
       "      <td>서울 용산구 후암로 40-2 (후암동, 성원빌딩)</td>\n",
       "      <td>용산구</td>\n",
       "      <td>이디야</td>\n",
       "      <td>37.549481</td>\n",
       "      <td>126.977665</td>\n",
       "    </tr>\n",
       "    <tr>\n",
       "      <th>1311</th>\n",
       "      <td>원효로점</td>\n",
       "      <td>서울 용산구 원효로 257 (원효로1가)</td>\n",
       "      <td>용산구</td>\n",
       "      <td>이디야</td>\n",
       "      <td>37.539932</td>\n",
       "      <td>126.967461</td>\n",
       "    </tr>\n",
       "  </tbody>\n",
       "</table>\n",
       "</div>"
      ],
      "text/plain": [
       "       매장이름                               주소    구  브랜드         위도          경도\n",
       "1307  용산중앙점         서울 용산구 한강대로 52-1 (한강로3가)  용산구  이디야  37.525589  126.964826\n",
       "1308  용산청파점  서울 용산구 청파로71길 10 (청파동1가, 새마을금고)  용산구  이디야  37.544676  126.970027\n",
       "1309  용산효창점           서울 용산구 효창원로66길 2 (효창동)  용산구  이디야  37.541042  126.963486\n",
       "1310  용산후암점      서울 용산구 후암로 40-2 (후암동, 성원빌딩)  용산구  이디야  37.549481  126.977665\n",
       "1311   원효로점           서울 용산구 원효로 257 (원효로1가)  용산구  이디야  37.539932  126.967461"
      ]
     },
     "execution_count": 61,
     "metadata": {},
     "output_type": "execute_result"
    }
   ],
   "source": [
    "df_coffee_csv.tail()"
   ]
  },
  {
   "cell_type": "code",
   "execution_count": 68,
   "id": "de4e9588",
   "metadata": {},
   "outputs": [
    {
     "data": {
      "text/html": [
       "<div>\n",
       "<style scoped>\n",
       "    .dataframe tbody tr th:only-of-type {\n",
       "        vertical-align: middle;\n",
       "    }\n",
       "\n",
       "    .dataframe tbody tr th {\n",
       "        vertical-align: top;\n",
       "    }\n",
       "\n",
       "    .dataframe thead th {\n",
       "        text-align: right;\n",
       "    }\n",
       "</style>\n",
       "<table border=\"1\" class=\"dataframe\">\n",
       "  <thead>\n",
       "    <tr style=\"text-align: right;\">\n",
       "      <th></th>\n",
       "      <th>매장이름</th>\n",
       "      <th>주소</th>\n",
       "      <th>구</th>\n",
       "      <th>브랜드</th>\n",
       "      <th>위도</th>\n",
       "      <th>경도</th>\n",
       "    </tr>\n",
       "  </thead>\n",
       "  <tbody>\n",
       "    <tr>\n",
       "      <th>1310</th>\n",
       "      <td>용산후암점</td>\n",
       "      <td>서울 용산구 후암로 40-2 (후암동, 성원빌딩)</td>\n",
       "      <td>용산구</td>\n",
       "      <td>이디야</td>\n",
       "      <td>37.549481</td>\n",
       "      <td>126.977665</td>\n",
       "    </tr>\n",
       "    <tr>\n",
       "      <th>1311</th>\n",
       "      <td>원효로점</td>\n",
       "      <td>서울 용산구 원효로 257 (원효로1가)</td>\n",
       "      <td>용산구</td>\n",
       "      <td>이디야</td>\n",
       "      <td>37.539932</td>\n",
       "      <td>126.967461</td>\n",
       "    </tr>\n",
       "  </tbody>\n",
       "</table>\n",
       "</div>"
      ],
      "text/plain": [
       "       매장이름                           주소    구  브랜드         위도          경도\n",
       "1310  용산후암점  서울 용산구 후암로 40-2 (후암동, 성원빌딩)  용산구  이디야  37.549481  126.977665\n",
       "1311   원효로점       서울 용산구 원효로 257 (원효로1가)  용산구  이디야  37.539932  126.967461"
      ]
     },
     "execution_count": 68,
     "metadata": {},
     "output_type": "execute_result"
    }
   ],
   "source": [
    "df_coffee_csv.tail(2)"
   ]
  },
  {
   "cell_type": "code",
   "execution_count": 69,
   "id": "8f42eb1b",
   "metadata": {},
   "outputs": [
    {
     "data": {
      "text/html": [
       "<div>\n",
       "<style scoped>\n",
       "    .dataframe tbody tr th:only-of-type {\n",
       "        vertical-align: middle;\n",
       "    }\n",
       "\n",
       "    .dataframe tbody tr th {\n",
       "        vertical-align: top;\n",
       "    }\n",
       "\n",
       "    .dataframe thead th {\n",
       "        text-align: right;\n",
       "    }\n",
       "</style>\n",
       "<table border=\"1\" class=\"dataframe\">\n",
       "  <thead>\n",
       "    <tr style=\"text-align: right;\">\n",
       "      <th></th>\n",
       "      <th>매장이름</th>\n",
       "      <th>주소</th>\n",
       "      <th>구</th>\n",
       "      <th>브랜드</th>\n",
       "      <th>위도</th>\n",
       "      <th>경도</th>\n",
       "      <th>값</th>\n",
       "    </tr>\n",
       "  </thead>\n",
       "  <tbody>\n",
       "    <tr>\n",
       "      <th>1307</th>\n",
       "      <td>용산중앙점</td>\n",
       "      <td>서울 용산구 한강대로 52-1 (한강로3가)</td>\n",
       "      <td>용산구</td>\n",
       "      <td>이디야</td>\n",
       "      <td>37.525589</td>\n",
       "      <td>126.964826</td>\n",
       "      <td>1</td>\n",
       "    </tr>\n",
       "    <tr>\n",
       "      <th>1308</th>\n",
       "      <td>용산청파점</td>\n",
       "      <td>서울 용산구 청파로71길 10 (청파동1가, 새마을금고)</td>\n",
       "      <td>용산구</td>\n",
       "      <td>이디야</td>\n",
       "      <td>37.544676</td>\n",
       "      <td>126.970027</td>\n",
       "      <td>1</td>\n",
       "    </tr>\n",
       "    <tr>\n",
       "      <th>1309</th>\n",
       "      <td>용산효창점</td>\n",
       "      <td>서울 용산구 효창원로66길 2 (효창동)</td>\n",
       "      <td>용산구</td>\n",
       "      <td>이디야</td>\n",
       "      <td>37.541042</td>\n",
       "      <td>126.963486</td>\n",
       "      <td>1</td>\n",
       "    </tr>\n",
       "    <tr>\n",
       "      <th>1310</th>\n",
       "      <td>용산후암점</td>\n",
       "      <td>서울 용산구 후암로 40-2 (후암동, 성원빌딩)</td>\n",
       "      <td>용산구</td>\n",
       "      <td>이디야</td>\n",
       "      <td>37.549481</td>\n",
       "      <td>126.977665</td>\n",
       "      <td>1</td>\n",
       "    </tr>\n",
       "    <tr>\n",
       "      <th>1311</th>\n",
       "      <td>원효로점</td>\n",
       "      <td>서울 용산구 원효로 257 (원효로1가)</td>\n",
       "      <td>용산구</td>\n",
       "      <td>이디야</td>\n",
       "      <td>37.539932</td>\n",
       "      <td>126.967461</td>\n",
       "      <td>1</td>\n",
       "    </tr>\n",
       "  </tbody>\n",
       "</table>\n",
       "</div>"
      ],
      "text/plain": [
       "       매장이름                               주소    구  브랜드         위도          경도  \\\n",
       "1307  용산중앙점         서울 용산구 한강대로 52-1 (한강로3가)  용산구  이디야  37.525589  126.964826   \n",
       "1308  용산청파점  서울 용산구 청파로71길 10 (청파동1가, 새마을금고)  용산구  이디야  37.544676  126.970027   \n",
       "1309  용산효창점           서울 용산구 효창원로66길 2 (효창동)  용산구  이디야  37.541042  126.963486   \n",
       "1310  용산후암점      서울 용산구 후암로 40-2 (후암동, 성원빌딩)  용산구  이디야  37.549481  126.977665   \n",
       "1311   원효로점           서울 용산구 원효로 257 (원효로1가)  용산구  이디야  37.539932  126.967461   \n",
       "\n",
       "      값  \n",
       "1307  1  \n",
       "1308  1  \n",
       "1309  1  \n",
       "1310  1  \n",
       "1311  1  "
      ]
     },
     "execution_count": 69,
     "metadata": {},
     "output_type": "execute_result"
    }
   ],
   "source": [
    "df_coffee_csv[\"값\"] = 1\n",
    "df_coffee_csv.tail()"
   ]
  },
  {
   "cell_type": "code",
   "execution_count": null,
   "id": "635b3cc1",
   "metadata": {},
   "outputs": [],
   "source": []
  }
 ],
 "metadata": {
  "kernelspec": {
   "display_name": "Python 3 (ipykernel)",
   "language": "python",
   "name": "python3"
  },
  "language_info": {
   "codemirror_mode": {
    "name": "ipython",
    "version": 3
   },
   "file_extension": ".py",
   "mimetype": "text/x-python",
   "name": "python",
   "nbconvert_exporter": "python",
   "pygments_lexer": "ipython3",
   "version": "3.8.10"
  }
 },
 "nbformat": 4,
 "nbformat_minor": 5
}
